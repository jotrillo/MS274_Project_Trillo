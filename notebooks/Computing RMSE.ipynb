{
 "cells": [
  {
   "cell_type": "markdown",
   "id": "b914d67c-a6b4-4e8a-bf3a-5210cf1505d5",
   "metadata": {},
   "source": [
    "# Lab 5: Computing Root Mean Square Error\n",
    "\n",
    "In the QGIS section of our lab, we've created a comparison between the chlorophyll-a values measured *in situ* and those measured by satellite. Now, we'd like to compute the root mean square error between the *in situ* data and the satellite estimates.\n",
    "\n",
    "The equation for room mean square error (RMSE) is\n",
    "\n",
    "$$\n",
    "RMSE = \\sqrt{\\frac{1}{N} \\sum_{i=1}^N (Obs_i - Est_i)^2}\n",
    "$$"
   ]
  },
  {
   "cell_type": "markdown",
   "id": "75388cd5-7c11-4fd0-adce-9ea0af58e5ee",
   "metadata": {},
   "source": [
    "## Part 1: Read in the data lines\n",
    "Begin by reading in the data from the file that was created in QGIS. Then, split up the lines into a list."
   ]
  },
  {
   "cell_type": "code",
   "execution_count": 6,
   "id": "e4fe500a-25ee-4cd7-9ff4-b685b3bc4645",
   "metadata": {},
   "outputs": [
    {
     "name": "stdout",
     "output_type": "stream",
     "text": [
      "First 5 lines:\n",
      "['1.73,', '4.31,', '1.3,', '1.84,', '16,']\n"
     ]
    }
   ],
   "source": [
    "# define a file path to your data\n",
    "file_path = 'C:\\\\MS 275\\\\Maps\\\\Rastor Layers\\\\HW5\\\\modis_cholro_points_july.csv'\n",
    "\n",
    "# read in the data lines\n",
    "f = open(file_path)\n",
    "lines = f.read()\n",
    "f.close()\n",
    "\n",
    "# split the lines using the new line character\n",
    "\n",
    "lines = lines.split('\\n')\n",
    "# remove the first line\n",
    "lines.pop(0)\n",
    "#lines = [line.split(\",\",1)[1] for line in lines]\n",
    "\n",
    "# print the first five lines as a sanity check\n",
    "print('First 5 lines:')\n",
    "print(lines[0:5])\n",
    "\n"
   ]
  },
  {
   "cell_type": "markdown",
   "id": "b297d77b-6a94-4971-9423-e97eca3df341",
   "metadata": {},
   "source": [
    "## Part 2: Compute a list of errors\n",
    "Next, we'll loop through each of our lines to make a list of errors. As we go, we'll need to:\n",
    "- split each line at the comma character\n",
    "- check to ensure there are two values\n",
    "- convert to numbers\n",
    "- compute the errors\n",
    "- store the value in a list"
   ]
  },
  {
   "cell_type": "code",
   "execution_count": null,
   "id": "dee0602d-d7d8-40d4-abed-417cb854ca91",
   "metadata": {},
   "outputs": [],
   "source": []
  },
  {
   "cell_type": "code",
   "execution_count": 7,
   "id": "50427d82-d8b3-4c74-bb50-29b6f51cde9c",
   "metadata": {},
   "outputs": [],
   "source": [
    "# make an empty list for the errors (to fill in)\n",
    "errors = []\n",
    "\n",
    "\n",
    "# read through all of the lines\n",
    "for line in lines:\n",
    "    line_parts = line.split(',')\n",
    "   \n",
    "    if len(line_parts[0])>0 and len(line_parts[1]) >0: #this line checks if there is a second value\n",
    "        value_1= float(line_parts[0])\n",
    "        value_2= float(line_parts[1])\n",
    "        \n",
    "        error = value_1-value_2\n",
    "        errors.append(error)\n",
    "        \n"
   ]
  },
  {
   "cell_type": "code",
   "execution_count": 8,
   "id": "87d9b435-c0b1-4cfb-bf35-dc881ca3fc1c",
   "metadata": {},
   "outputs": [
    {
     "data": {
      "text/plain": [
       "12720"
      ]
     },
     "execution_count": 8,
     "metadata": {},
     "output_type": "execute_result"
    }
   ],
   "source": [
    "len(errors)"
   ]
  },
  {
   "cell_type": "markdown",
   "id": "a8d6dde4-81a9-4dff-b0ae-f57117a099c8",
   "metadata": {},
   "source": [
    "## Part 3: Compute the RMSE\n",
    "Now that we've got a list of errors, we can work to compute the RMSE."
   ]
  },
  {
   "cell_type": "code",
   "execution_count": 9,
   "id": "3f1a9d09-d627-4272-ab19-48c59a0158af",
   "metadata": {},
   "outputs": [
    {
     "name": "stdout",
     "output_type": "stream",
     "text": [
      "RMSE = 15.99 mg/cm3\n"
     ]
    }
   ],
   "source": [
    "# initiate variables for the sum of squares\n",
    "# and the total count\n",
    "\n",
    "sum_of_squares = 0 \n",
    "count = 0\n",
    "\n",
    "# loop through all of the errors and add their to the \n",
    "# squares to the sum of squares. also increment the count\n",
    "\n",
    "for error in errors:\n",
    "    sum_of_squares += error**2\n",
    "    count +=1\n",
    "\n",
    "\n",
    "# compute the mean and the root to complete the calculation\n",
    "average = sum_of_squares/count\n",
    "RMSE = average**.5\n",
    "\n",
    "# print the RMSE with 2 decimal places\n",
    "print('RMSE = ' + '{:.2f}'.format(RMSE) + ' mg/cm3')"
   ]
  },
  {
   "cell_type": "code",
   "execution_count": null,
   "id": "355ed30d-f295-4588-9114-443ac246a94d",
   "metadata": {},
   "outputs": [],
   "source": []
  }
 ],
 "metadata": {
  "kernelspec": {
   "display_name": "Python 3 (ipykernel)",
   "language": "python",
   "name": "python3"
  },
  "language_info": {
   "codemirror_mode": {
    "name": "ipython",
    "version": 3
   },
   "file_extension": ".py",
   "mimetype": "text/x-python",
   "name": "python",
   "nbconvert_exporter": "python",
   "pygments_lexer": "ipython3",
   "version": "3.9.12"
  }
 },
 "nbformat": 4,
 "nbformat_minor": 5
}
